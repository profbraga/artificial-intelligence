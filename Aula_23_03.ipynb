{
 "cells": [
  {
   "cell_type": "code",
   "execution_count": 4,
   "id": "96b1712f",
   "metadata": {},
   "outputs": [
    {
     "data": {
      "text/plain": [
       "[[0, 0, 0, 0, 0],\n",
       " [0, 0, 0, 0, 0],\n",
       " [0, 0, 1, 0, 0],\n",
       " [0, 0, 0, 0, 0],\n",
       " [0, 0, 0, 0, 0]]"
      ]
     },
     "execution_count": 4,
     "metadata": {},
     "output_type": "execute_result"
    }
   ],
   "source": [
    "# Algoritmo A Estrela\n",
    "# Rascunho para ajudar\n",
    "mapa = [[0,0,0,0,0],\n",
    "       [0,0,0,0,0],\n",
    "       [0,0,1,0,0],\n",
    "       [0,0,0,0,0],\n",
    "       [0,0,0,0,0]]\n",
    "mapa"
   ]
  },
  {
   "cell_type": "code",
   "execution_count": 8,
   "id": "7d86fb0a",
   "metadata": {},
   "outputs": [],
   "source": [
    "import math\n",
    "def funcao_gulosa(x_atual, y_atual, x_possivel, y_possivel):\n",
    "    return math.sqrt((x_possivel-x_atual)**2 + (y_possivel-y_atual)**2)"
   ]
  },
  {
   "cell_type": "code",
   "execution_count": 17,
   "id": "ea2f1b81",
   "metadata": {},
   "outputs": [
    {
     "name": "stdout",
     "output_type": "stream",
     "text": [
      "G =  1.0\n",
      "H =  6\n"
     ]
    }
   ],
   "source": [
    "print('G = ', funcao_gulosa(1,0,0,0))\n",
    "print('H = ',funcao_heuristica(0,0,3,3))"
   ]
  },
  {
   "cell_type": "code",
   "execution_count": 10,
   "id": "7940a2c9",
   "metadata": {},
   "outputs": [
    {
     "data": {
      "text/plain": [
       "1.4142135623730951"
      ]
     },
     "execution_count": 10,
     "metadata": {},
     "output_type": "execute_result"
    }
   ],
   "source": [
    "funcao_gulosa(1,0,0,1)"
   ]
  },
  {
   "cell_type": "code",
   "execution_count": 16,
   "id": "e583b8c8",
   "metadata": {},
   "outputs": [],
   "source": [
    "def funcao_heuristica(x_possivel, y_possivel, x_objetivo, y_objetivo):\n",
    "    return abs(x_objetivo - x_possivel) + abs(y_objetivo - y_possivel)"
   ]
  },
  {
   "cell_type": "code",
   "execution_count": 20,
   "id": "1c737e97",
   "metadata": {},
   "outputs": [
    {
     "name": "stdout",
     "output_type": "stream",
     "text": [
      "G =  1.4142135623730951\n",
      "H =  3\n",
      "F =  4.414213562373095\n"
     ]
    }
   ],
   "source": [
    "print('G = ', funcao_gulosa(1,0,2,1))\n",
    "print('H = ',funcao_heuristica(2,1,3,3))\n",
    "print('F = ',funcao_f(1,0,2,1,3,3))"
   ]
  },
  {
   "cell_type": "code",
   "execution_count": 19,
   "id": "01a2a9c5",
   "metadata": {},
   "outputs": [],
   "source": [
    "def funcao_f(x_atual, y_atual, x_possivel, y_possivel,x_objetivo, y_objetivo):\n",
    "    return funcao_gulosa(x_atual, y_atual, x_possivel, y_possivel)+funcao_heuristica(x_possivel, y_possivel, x_objetivo, y_objetivo)"
   ]
  },
  {
   "cell_type": "code",
   "execution_count": 31,
   "id": "f6d53084",
   "metadata": {},
   "outputs": [],
   "source": [
    "def avalia_nos_possiveis(x_atual, y_atual, x_objetivo,y_objetivo):\n",
    "    if(x_atual-1>=0)and (y_atual-1>=0):\n",
    "        avalia1=funcao_f(x_atual, y_atual, x_atual-1, y_atual-1, x_objetivo, y_objetivo)\n",
    "        print('Avalia 1:', avalia1)\n",
    "    if(x_atual+1<=4):\n",
    "        avalia6=funcao_f(x_atual, y_atual, x_atual+1, y_atual, x_objetivo, y_objetivo)\n",
    "        print('Avalia 6:', avalia6)\n",
    "    if(x_atual+1<=4)and (y_atual+1<=4):\n",
    "        avalia9=funcao_f(x_atual, y_atual, x_atual+1, y_atual+1, x_objetivo, y_objetivo)\n",
    "        print('Avalia 9:', avalia9)"
   ]
  },
  {
   "cell_type": "code",
   "execution_count": 32,
   "id": "ec9eafb4",
   "metadata": {},
   "outputs": [
    {
     "name": "stdout",
     "output_type": "stream",
     "text": [
      "Avalia 6: 5.0\n",
      "Avalia 9: 4.414213562373095\n"
     ]
    }
   ],
   "source": [
    "avalia_nos_possiveis(1,0, 3,3)"
   ]
  },
  {
   "cell_type": "code",
   "execution_count": null,
   "id": "d0e5982f",
   "metadata": {},
   "outputs": [],
   "source": []
  }
 ],
 "metadata": {
  "kernelspec": {
   "display_name": "Python 3 (ipykernel)",
   "language": "python",
   "name": "python3"
  },
  "language_info": {
   "codemirror_mode": {
    "name": "ipython",
    "version": 3
   },
   "file_extension": ".py",
   "mimetype": "text/x-python",
   "name": "python",
   "nbconvert_exporter": "python",
   "pygments_lexer": "ipython3",
   "version": "3.8.8"
  }
 },
 "nbformat": 4,
 "nbformat_minor": 5
}
